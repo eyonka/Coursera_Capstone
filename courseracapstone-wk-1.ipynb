{
 "cells": [
  {
   "cell_type": "markdown",
   "metadata": {},
   "source": [
    "# CAPSTONE PROJECT: BATTLE OF NEIGHBORHOODS (WEEK 1)"
   ]
  },
  {
   "cell_type": "markdown",
   "metadata": {},
   "source": [
    "## Introduction\n",
    " This project encapsulates leveraging the Foursquare location data to explore the communities and respective neighborhoods of the city of Minneapolis in the state of Minnesota so as to make recommendations for the most suitable location for Asian Business headquarters and manufacturing plant.\n"
   ]
  },
  {
   "cell_type": "markdown",
   "metadata": {},
   "source": [
    "# 1. PROBLEM STATEMENT \n",
    "## 1.1 Background \n",
    "\"Xantan LLC\" South-Korean Based company is looking to expand its business operations in the United states and wanting to set its offices and manufacturing plant in the states of Minnesota and the city of Minneapolis but they are running out of time to deploy scout men to USA for a possible venue of operation meeting key location parameters.\n",
    "As a consultant i was contacted to solve this complex equation and make a recommendation to the CEO of the company\n",
    "\n",
    "## 1.2 Key Location Characteristics\n",
    "> -  Office size within 2000 - 5000 sq ft  \n",
    "> -  At least one Asian restaurant with 2 mile radius, coffee shop and Grocery\n",
    "> -  Asian community be most predominant or most important in the area\n",
    "> -  within one mile from bus station or bus-stop \n",
    "> -  Manufacturing plant be Within 5 miles of major Office and a major retail center \n",
    "> -  Manufacturing plant with 5 miles of a industrial employment district\n",
    "> -  Low crime rate"
   ]
  },
  {
   "cell_type": "markdown",
   "metadata": {},
   "source": [
    "# 2. DATA\n",
    "## 2.1 Data Sources\n",
    "> -  Data will principally come from 'OPENDATAMINNEAPOLIS'\n",
    "    (The City of Minneapolis public spatial geographic information systems (GIS) and non-spatial data that is regularly requested by private citizens and businesses. These data sets are shared free of charge and with minimal licensing).\n",
    "    \n",
    "### 2.2 Links to Key data to be used in the study\n",
    "> -  major retail centers: https://opendata.arcgis.com/datasets/2c35bcea1a7c4a3ba48fa42b039e5aa6_0.geojson \n",
    "> -  industrial employment districts: https://opendata.arcgis.com/datasets/4c768a5aa3154f85bd80dc9c5dd0ebf7_0.geojson\n",
    "> -  neighborhood commercial nodes: https://opendata.arcgis.com/datasets/47a7b23ee906431eb646f863ad2cb2e5_0.geojson\n",
    "> -  neighborhood crime stat: https://opendata.arcgis.com/datasets/e251c3fe668243719001237d7ac74420_0.geojson \n",
    "> -  Transit stations: https://opendata.arcgis.com/datasets/55a4601b78404583be59165006da9ad8_0.geojson \n",
    "> -  neighborhood and communities listing: http://www.ci.minneapolis.mn.us/council/maps/index.htm\n",
    "> -  office lease site: https://www.cityfeet.com/cont/minneapolis-mn/office-space-for-lease?sizeMin=1000&l=3-49492\n",
    "> -  communities: https://opendata.arcgis.com/datasets/e0a3b6a4c23b4a03b988388553cb9638_0.geojson\n",
    "> -  neighborhoods: https://opendata.arcgis.com/datasets/7f88316841ce471faa33c89035fb69e8_0.geojson \n",
    "> -  Fire stations: https://opendata.arcgis.com/datasets/e697e12884fd4421abaf4a71b513f509_0.geojson \n",
    "\n",
    "### 2.3 How will data be used to solve the problem\n",
    "> -  convert addresses into their equivalent latitude and longitude values unsing Geopy-distance and Nominatim, alternatively i will using OpenCage Geocoder API(free registration on the website)\n",
    "> -  Four square API will be used to generate to explore communities and neighborhoods in Minneapolis. I will use the explore function to get the most common venue categories in each neighborhood.\n",
    "> -  leverage the four square API explore function together with k-means clustering algorithm to group the neighborhoods into clusters. \n",
    "> -  I will use the Folium library to visualize the neighborhoods in Minneapolis and their emerging clusters with respect to the location specification of Xantan LLc and make a superposition to determine the best location."
   ]
  },
  {
   "cell_type": "markdown",
   "metadata": {},
   "source": [
    "# 3. Possible Target audiences\n",
    "> -  Multinationals(public, private, NGO) seeking to explore and make strategic business decisons\n",
    "> -  individuals( seeking to relocate or setup business)\n",
    "> -  students getting their feet wet with data science methodology and APIs"
   ]
  },
  {
   "cell_type": "markdown",
   "metadata": {},
   "source": [
    "# Thank You"
   ]
  },
  {
   "cell_type": "code",
   "execution_count": null,
   "metadata": {},
   "outputs": [],
   "source": []
  }
 ],
 "metadata": {
  "kernelspec": {
   "display_name": "Python 3",
   "language": "python",
   "name": "python3"
  },
  "language_info": {
   "codemirror_mode": {
    "name": "ipython",
    "version": 3
   },
   "file_extension": ".py",
   "mimetype": "text/x-python",
   "name": "python",
   "nbconvert_exporter": "python",
   "pygments_lexer": "ipython3",
   "version": "3.6.8"
  }
 },
 "nbformat": 4,
 "nbformat_minor": 2
}
